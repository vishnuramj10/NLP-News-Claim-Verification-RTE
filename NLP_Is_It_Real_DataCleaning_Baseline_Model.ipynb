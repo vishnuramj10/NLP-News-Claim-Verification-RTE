{
  "cells": [
    {
      "cell_type": "code",
      "execution_count": 1,
      "metadata": {
        "colab": {
          "base_uri": "https://localhost:8080/"
        },
        "id": "8Tc4tykz0GZL",
        "outputId": "009ad714-b990-410a-d996-814df6f80ca0"
      },
      "outputs": [
        {
          "output_type": "stream",
          "name": "stdout",
          "text": [
            "Mounted at /content/drive\n"
          ]
        }
      ],
      "source": [
        "from google.colab import drive\n",
        "drive.mount('/content/drive')\n"
      ]
    },
    {
      "cell_type": "markdown",
      "source": [
        "# Group 6"
      ],
      "metadata": {
        "id": "3G-4w8C4a8Q8"
      }
    },
    {
      "cell_type": "markdown",
      "source": [
        "# Is this Real? News Claim Verification Through Recognizing Textual Entailment\n",
        "\n",
        "Dataset : We found a dataset matching our requirement from the Hugging Face datasets named [MultiNewsFactCeckingClaims](https://huggingface.co/datasets/tingchih/Multi_News_fact_checking_claims). Although the dataset contains 1M rows, we will be using data which suffices our computing power. The dataset contains Document(News Article), a Claim and a label(Entailed, Neutral, Contradiction).\n",
        "\n",
        "\n",
        "Goal : The Project aims to develop a news claim check detector utilizing multiple news articles and claims associated with the news articles. Our dataset will primarily consist of multiple claims to a news article having different labels of Entailment, Contradiction and Neutral. The final model will be able to classify a given claim to the above set of labels by referring to the abundance articles.\n",
        "\n",
        "\n",
        "Summary - We perform initial data cleaning and fit a baseline model inspired from Fake News Challenge [Riedel et al. (2017)](https://arxiv.org/pdf/1707.03264.pdf) which is a Style Based Approach. We however modified the MLP Architecture mentioned in the paper to our setting. The MLP classifier would use a single vector of term frequencies and TF-IDF cosine similarities which is fed as the Input to the MLP Architecture.\n"
      ],
      "metadata": {
        "id": "4BFNyQGqfR-N"
      }
    },
    {
      "cell_type": "markdown",
      "metadata": {
        "id": "TvKxxhUDLAU4"
      },
      "source": [
        "## **1.0 Data Cleaning**"
      ]
    },
    {
      "cell_type": "code",
      "source": [
        "pip install langdetect"
      ],
      "metadata": {
        "colab": {
          "base_uri": "https://localhost:8080/"
        },
        "id": "t95LUiHcLNOe",
        "outputId": "5489dab2-7c9e-49e9-bacd-6881ed1bf07f"
      },
      "execution_count": 2,
      "outputs": [
        {
          "output_type": "stream",
          "name": "stdout",
          "text": [
            "Collecting langdetect\n",
            "  Downloading langdetect-1.0.9.tar.gz (981 kB)\n",
            "\u001b[2K     \u001b[90m━━━━━━━━━━━━━━━━━━━━━━━━━━━━━━━━━━━━━━━━\u001b[0m \u001b[32m981.5/981.5 kB\u001b[0m \u001b[31m12.2 MB/s\u001b[0m eta \u001b[36m0:00:00\u001b[0m\n",
            "\u001b[?25h  Preparing metadata (setup.py) ... \u001b[?25l\u001b[?25hdone\n",
            "Requirement already satisfied: six in /usr/local/lib/python3.10/dist-packages (from langdetect) (1.16.0)\n",
            "Building wheels for collected packages: langdetect\n",
            "  Building wheel for langdetect (setup.py) ... \u001b[?25l\u001b[?25hdone\n",
            "  Created wheel for langdetect: filename=langdetect-1.0.9-py3-none-any.whl size=993225 sha256=bce554d4d5b3431fa60327615c2cc30f275a44d34791d7984845101983c4a4f0\n",
            "  Stored in directory: /root/.cache/pip/wheels/95/03/7d/59ea870c70ce4e5a370638b5462a7711ab78fba2f655d05106\n",
            "Successfully built langdetect\n",
            "Installing collected packages: langdetect\n",
            "Successfully installed langdetect-1.0.9\n"
          ]
        }
      ]
    },
    {
      "cell_type": "code",
      "execution_count": 21,
      "metadata": {
        "id": "k8x8eqbPLAU4",
        "colab": {
          "base_uri": "https://localhost:8080/"
        },
        "outputId": "25d6bb94-f6aa-48f6-843e-b76d8904c80e"
      },
      "outputs": [
        {
          "output_type": "stream",
          "name": "stderr",
          "text": [
            "[nltk_data] Downloading package stopwords to /root/nltk_data...\n",
            "[nltk_data]   Package stopwords is already up-to-date!\n",
            "[nltk_data] Downloading package punkt to /root/nltk_data...\n",
            "[nltk_data]   Package punkt is already up-to-date!\n"
          ]
        }
      ],
      "source": [
        "import pandas as pd\n",
        "import string\n",
        "from nltk.corpus import stopwords\n",
        "from langdetect import detect\n",
        "from sklearn.metrics import confusion_matrix\n",
        "from sklearn.feature_extraction.text import CountVectorizer, TfidfTransformer\n",
        "from tensorflow.keras import regularizers\n",
        "from sklearn.metrics.pairwise import cosine_similarity\n",
        "from sklearn.preprocessing import LabelEncoder\n",
        "from scipy.sparse import hstack\n",
        "from sklearn.model_selection import train_test_split\n",
        "from sklearn.feature_extraction.text import TfidfVectorizer\n",
        "import numpy as np\n",
        "from sklearn.preprocessing import normalize\n",
        "from sklearn.metrics import precision_score, accuracy_score\n",
        "import tensorflow as tf\n",
        "from tensorflow.keras.models import Sequential\n",
        "from tensorflow.keras.layers import Dense, Activation, Dropout\n",
        "from sklearn.metrics import accuracy_score, f1_score, precision_score, recall_score\n",
        "import matplotlib.pyplot as plt\n",
        "import seaborn as sns; sns.set()\n",
        "#Removing  stop words\n",
        "from nltk.corpus import stopwords\n",
        "from nltk.tokenize import word_tokenize\n",
        "import plotly.graph_objects as go\n",
        "import re\n",
        "\n",
        "# Download the NLTK stop words data\n",
        "import nltk\n",
        "nltk.download('stopwords')\n",
        "nltk.download('punkt')\n",
        "import plotly.express as px"
      ]
    },
    {
      "cell_type": "code",
      "execution_count": 4,
      "metadata": {
        "colab": {
          "base_uri": "https://localhost:8080/",
          "height": 178
        },
        "id": "pjR6s52uLAU4",
        "outputId": "cc4f6288-a26b-4a69-92af-928bd8ee58d7"
      },
      "outputs": [
        {
          "output_type": "execute_result",
          "data": {
            "text/plain": [
              "'                                         Whoever digs a pit will fall into it; if someone rolls a stone, it will roll back on them.If you set a trap for others, you will get caught in it yourself. If you roll a boulder down on others, it will crush you instead.Whoever digs a pit will fall into it, and a stone will come back on him who starts it rolling.He who digs a pit will fall into it, and whoever rolls a stone, it will come back on him.He who digs a pit will fall into it, And he who rolls a stone, it will come back on him.Whoso diggeth a pit shall fall therein: and he that rolleth a stone, it will return upon him.The one who digs a pit will fall into it, and whoever rolls a stone--it will come back on him.If you dig a pit, you will fall in; if you start a stone rolling, it will roll back on you.People who set traps for others get caught themselves. People who start landslides get crushed.The one who digs a pit will fall into it, and whoever rolls a stone-- it will come back on him.Whoever digs a pit will fall into it, and the stone will come back on whoever starts it rolling.The one who digs a pit will fall into it; the one who rolls a stone--it will come back on him.Whoever digs a pit shall fall into it. Whoever rolls a stone, it will come back on him.He that digs a ditch will fall into it, and he that rolls a stone, it will return upon him.Whoever digs a pit will fall into it. Whoever rolls a stone will have it roll back on him.Whoso diggeth a pit shall fall therein; And he that rolleth a stone, it shall return upon him.He who digs a pit will fall into it, And he who rolls a stone, it will come back on him.Whosoever digs a pit shall fall therein, and he that rolls a stone, it will return upon him.Whosoever digs a pit shall fall in it: and he that rolls a stone, it will return upon him.Whoever digs a pit shall fall therein: and he that rolls a stone, it will return on him.Whoso diggeth a pit shall fall therein; And he that rolleth a stone, it shall return upon him.He that digs a pit for his neighbour shall fall into it: and he that rolls a stone, rolls it upon himself.He that diggeth a pit, shall fall into it: and he that rolleth a stone, it shall return to him.Whoso diggeth a pit shall fall therein; and he that rolleth a stone, it shall return upon him.Whoso diggeth a pit shall fall therein: and he that rolleth a stone, it shall return upon him.Whoever diggeth a pit shall fall into it: and he that rolleth a stone, it will return upon him.Whoever digs a pit shall fall into it. Whoever rolls a stone, it will come back on him.Whoso is digging a pit falleth into it, And the roller of a stone, to him it turneth.   Reporter Julia Jenae and Sam Grover, the attorney who filed the complaint against Judge Randall Rogers, will answer your questions after a two-part investigation on his creative probation efforts.  Reporter Julia Jenae and Sam Grover, the attorney who filed the complaint against Judge Randall Rogers, will answer your questions after a two-part investigation on his creative probation efforts.  In August, a young Texas couple came forward with an unusual story to tell; a Judge forced them to get married. As it turns out, they weren\\'t the only ones. (Source: KLTV Staff)  In August, a young Texas couple came forward with an unusual story to tell; a Judge forced them to get married. As it turns out, they weren\\'t the only ones. (Source: KLTV Staff)  After an East Texas judge is criticized for requiring defendants in his court to get married and write Bible verses as a part of their criminal probation, a retired judge speaks out on his behalf.  Judge Randall Rogers of Smith County faced scrutiny after he gave Tyler resident Josten Bundy the option of marrying his 19-year old girlfriend or going to jail for 15 days. Bundy\\'s story gained international attention in August and prompted the filing of an official complaint against the judge with the State Commission for Judicial Conduct.  RELATED: Judge sentences East Texas man to get married or face jail time  Rogers has declined to comment on his sentencing and probation practices, and retired district judge Cynthia Stevens Kent said that Rogers ethically can\\'t respond.  \"It’s incredibly frustrating for judges, but that’s part of the job – they have to just take the blows and not respond to it publicly, and just try to do their work,\" said Kent, who served on the bench in Smith County for 24 years. \"The judge has enormous discretion [to set probation] as long as the conditions are meant to protect the victim, protect society, work toward rehabilitation of the individual.\"  Kent believes that giving couples an incentive to get married falls within the category of benefiting society.  \"I think traditionally the family unit and that commitment and stability has been a positive thing in helping people not engage in criminal activity,\" said Kent. \"I\\'ve known Judge Rogers for a long time, and I\\'ve known him to be thoughtful and hardworking.\"  RELATED: Texas judge tells couples: Get married or stay away from each other  Sam Grover, a Wisconsin attorney with the Freedom from Religion Foundation (FFRF) who filed the complaint against Rogers in August, disagrees.  \"Judges are government actors and they need to keep their personal religious bias out of the courtroom,\" said Grover. \"What we found is that Rogers ordered a man to write out Proverbs 26:27 twenty-five times a day, and get married to avoid going to jail.\"  Grover said a marriage order is not permissible and the the Bible verses homework violates the separation of church and state.  \"This is one issue where the Freedom from Religion Foundation actually finds itself aligned with a lot of religious groups,\" Grover said. \"They see marriage as a sacred thing between two people and they don’t really want a judge or a government official, weighing in on that.\"  The complaint with the State Commission on Judicial Conduct(SCJC) is pending. Grover said it can take up to a year to get a decision from the SCJC. The commission, that investigates the complaints against Texas judges it receives, is made up of 13 members including East Texas judge Joel Baker of Smith County.  Read: Freedom From Religion Foundation issues complaint against judge in forced marriage case  Despite the criticism from people across the nation, Kent said the incentive to marry through the courts is appropriate for the region.  \"As the community attitude changes and shifts then sometimes the judges are a little behind that change and shift,\" said Kent. \"I don’t know that this issue is a real change and shift in our community – I still think this is a community where family and marriage commitment is very important.\"  Grover said judges are generally immune from being sued for decisions they make on the bench. The typical way to fight a disagreeable ruling from a judge that you don\\'t agree with is to appeal it to a higher court, but that didn\\'t happen in any of the reported cases.  \"We’re really just left with the judicial ethics commission as the only way to make sure that justice is served in this case,\" Grover said.  Rogers, who has been a judge for over 25 years ran unopposed for County Court at Law #2 judge in 2010 and 2014. He will be up for re-election in 2018.  Copyright 2015 KLTV. All rights reserved.'"
            ],
            "application/vnd.google.colaboratory.intrinsic+json": {
              "type": "string"
            }
          },
          "metadata": {},
          "execution_count": 4
        }
      ],
      "source": [
        "df = pd.read_csv('/content/drive/MyDrive/NLP Project/Data/article_claim_data.csv')\n",
        "df.at[5, 'Documents']"
      ]
    },
    {
      "cell_type": "code",
      "source": [
        "print(df.at[5,'Claim'])\n",
        "print(df.at[5,'label'])"
      ],
      "metadata": {
        "colab": {
          "base_uri": "https://localhost:8080/"
        },
        "id": "AdoR-Fc1e2HA",
        "outputId": "55b10207-a3d8-4ff3-e99f-e2e8cfd6835c"
      },
      "execution_count": 5,
      "outputs": [
        {
          "output_type": "stream",
          "name": "stdout",
          "text": [
            "Judge Rogers violated the separation of church and state by ordering Bundy to write out Proverbs 26:27 25 times a day.\n",
            "0\n"
          ]
        }
      ]
    },
    {
      "cell_type": "code",
      "execution_count": 6,
      "metadata": {
        "id": "JODbj_GZLAU4"
      },
      "outputs": [],
      "source": [
        "#Removing special characters\n",
        "\n",
        "df['Documents'] = df['Documents'].apply(lambda x: re.sub(r'[#\\\\\\\"$”“,:()–’\\'/;\\[\\]{}—‘!+•%&-]', ' ', x))\n",
        "df['Documents'] = df['Documents'].apply(lambda x: re.sub(r'\\s+', ' ', x))"
      ]
    },
    {
      "cell_type": "code",
      "execution_count": 7,
      "metadata": {
        "colab": {
          "base_uri": "https://localhost:8080/"
        },
        "id": "Us4BpQddLAU5",
        "outputId": "fb06d3c0-dfcf-4033-d8eb-739bfaa0e2b2"
      },
      "outputs": [
        {
          "output_type": "stream",
          "name": "stdout",
          "text": [
            " Whoever digs a pit will fall into it if someone rolls a stone it will roll back on them.If you set a trap for others you will get caught in it yourself. If you roll a boulder down on others it will crush you instead.Whoever digs a pit will fall into it and a stone will come back on him who starts it rolling.He who digs a pit will fall into it and whoever rolls a stone it will come back on him.He who digs a pit will fall into it And he who rolls a stone it will come back on him.Whoso diggeth a pit shall fall therein and he that rolleth a stone it will return upon him.The one who digs a pit will fall into it and whoever rolls a stone it will come back on him.If you dig a pit you will fall in if you start a stone rolling it will roll back on you.People who set traps for others get caught themselves. People who start landslides get crushed.The one who digs a pit will fall into it and whoever rolls a stone it will come back on him.Whoever digs a pit will fall into it and the stone will come back on whoever starts it rolling.The one who digs a pit will fall into it the one who rolls a stone it will come back on him.Whoever digs a pit shall fall into it. Whoever rolls a stone it will come back on him.He that digs a ditch will fall into it and he that rolls a stone it will return upon him.Whoever digs a pit will fall into it. Whoever rolls a stone will have it roll back on him.Whoso diggeth a pit shall fall therein And he that rolleth a stone it shall return upon him.He who digs a pit will fall into it And he who rolls a stone it will come back on him.Whosoever digs a pit shall fall therein and he that rolls a stone it will return upon him.Whosoever digs a pit shall fall in it and he that rolls a stone it will return upon him.Whoever digs a pit shall fall therein and he that rolls a stone it will return on him.Whoso diggeth a pit shall fall therein And he that rolleth a stone it shall return upon him.He that digs a pit for his neighbour shall fall into it and he that rolls a stone rolls it upon himself.He that diggeth a pit shall fall into it and he that rolleth a stone it shall return to him.Whoso diggeth a pit shall fall therein and he that rolleth a stone it shall return upon him.Whoso diggeth a pit shall fall therein and he that rolleth a stone it shall return upon him.Whoever diggeth a pit shall fall into it and he that rolleth a stone it will return upon him.Whoever digs a pit shall fall into it. Whoever rolls a stone it will come back on him.Whoso is digging a pit falleth into it And the roller of a stone to him it turneth. Reporter Julia Jenae and Sam Grover the attorney who filed the complaint against Judge Randall Rogers will answer your questions after a two part investigation on his creative probation efforts. Reporter Julia Jenae and Sam Grover the attorney who filed the complaint against Judge Randall Rogers will answer your questions after a two part investigation on his creative probation efforts. In August a young Texas couple came forward with an unusual story to tell a Judge forced them to get married. As it turns out they weren t the only ones. Source KLTV Staff In August a young Texas couple came forward with an unusual story to tell a Judge forced them to get married. As it turns out they weren t the only ones. Source KLTV Staff After an East Texas judge is criticized for requiring defendants in his court to get married and write Bible verses as a part of their criminal probation a retired judge speaks out on his behalf. Judge Randall Rogers of Smith County faced scrutiny after he gave Tyler resident Josten Bundy the option of marrying his 19 year old girlfriend or going to jail for 15 days. Bundy s story gained international attention in August and prompted the filing of an official complaint against the judge with the State Commission for Judicial Conduct. RELATED Judge sentences East Texas man to get married or face jail time Rogers has declined to comment on his sentencing and probation practices and retired district judge Cynthia Stevens Kent said that Rogers ethically can t respond. It s incredibly frustrating for judges but that s part of the job they have to just take the blows and not respond to it publicly and just try to do their work said Kent who served on the bench in Smith County for 24 years. The judge has enormous discretion to set probation as long as the conditions are meant to protect the victim protect society work toward rehabilitation of the individual. Kent believes that giving couples an incentive to get married falls within the category of benefiting society. I think traditionally the family unit and that commitment and stability has been a positive thing in helping people not engage in criminal activity said Kent. I ve known Judge Rogers for a long time and I ve known him to be thoughtful and hardworking. RELATED Texas judge tells couples Get married or stay away from each other Sam Grover a Wisconsin attorney with the Freedom from Religion Foundation FFRF who filed the complaint against Rogers in August disagrees. Judges are government actors and they need to keep their personal religious bias out of the courtroom said Grover. What we found is that Rogers ordered a man to write out Proverbs 26 27 twenty five times a day and get married to avoid going to jail. Grover said a marriage order is not permissible and the the Bible verses homework violates the separation of church and state. This is one issue where the Freedom from Religion Foundation actually finds itself aligned with a lot of religious groups Grover said. They see marriage as a sacred thing between two people and they don t really want a judge or a government official weighing in on that. The complaint with the State Commission on Judicial Conduct SCJC is pending. Grover said it can take up to a year to get a decision from the SCJC. The commission that investigates the complaints against Texas judges it receives is made up of 13 members including East Texas judge Joel Baker of Smith County. Read Freedom From Religion Foundation issues complaint against judge in forced marriage case Despite the criticism from people across the nation Kent said the incentive to marry through the courts is appropriate for the region. As the community attitude changes and shifts then sometimes the judges are a little behind that change and shift said Kent. I don t know that this issue is a real change and shift in our community I still think this is a community where family and marriage commitment is very important. Grover said judges are generally immune from being sued for decisions they make on the bench. The typical way to fight a disagreeable ruling from a judge that you don t agree with is to appeal it to a higher court but that didn t happen in any of the reported cases. We re really just left with the judicial ethics commission as the only way to make sure that justice is served in this case Grover said. Rogers who has been a judge for over 25 years ran unopposed for County Court at Law 2 judge in 2010 and 2014. He will be up for re election in 2018. Copyright 2015 KLTV. All rights reserved.\n"
          ]
        }
      ],
      "source": [
        "print(df.at[1, 'Documents'])"
      ]
    },
    {
      "cell_type": "code",
      "execution_count": 8,
      "metadata": {
        "id": "3eMYBmFOLAU5"
      },
      "outputs": [],
      "source": [
        "# Remove stop words from 'Documents'\n",
        "stop_words = set(stopwords.words('english'))\n",
        "df['Documents'] = df['Documents'].apply(lambda x: ' '.join([word for word in word_tokenize(str(x)) if word.lower() not in stop_words]))"
      ]
    },
    {
      "cell_type": "code",
      "execution_count": 9,
      "metadata": {
        "colab": {
          "base_uri": "https://localhost:8080/"
        },
        "id": "KEPfkrUILAU5",
        "outputId": "9aff7d42-0bcb-4dcf-9f3d-3060c9f54e53"
      },
      "outputs": [
        {
          "output_type": "stream",
          "name": "stdout",
          "text": [
            "Whoever digs pit fall someone rolls stone roll back them.If set trap others get caught . roll boulder others crush instead.Whoever digs pit fall stone come back starts rolling.He digs pit fall whoever rolls stone come back him.He digs pit fall rolls stone come back him.Whoso diggeth pit shall fall therein rolleth stone return upon him.The one digs pit fall whoever rolls stone come back him.If dig pit fall start stone rolling roll back you.People set traps others get caught . People start landslides get crushed.The one digs pit fall whoever rolls stone come back him.Whoever digs pit fall stone come back whoever starts rolling.The one digs pit fall one rolls stone come back him.Whoever digs pit shall fall . Whoever rolls stone come back him.He digs ditch fall rolls stone return upon him.Whoever digs pit fall . Whoever rolls stone roll back him.Whoso diggeth pit shall fall therein rolleth stone shall return upon him.He digs pit fall rolls stone come back him.Whosoever digs pit shall fall therein rolls stone return upon him.Whosoever digs pit shall fall rolls stone return upon him.Whoever digs pit shall fall therein rolls stone return him.Whoso diggeth pit shall fall therein rolleth stone shall return upon him.He digs pit neighbour shall fall rolls stone rolls upon himself.He diggeth pit shall fall rolleth stone shall return him.Whoso diggeth pit shall fall therein rolleth stone shall return upon him.Whoso diggeth pit shall fall therein rolleth stone shall return upon him.Whoever diggeth pit shall fall rolleth stone return upon him.Whoever digs pit shall fall . Whoever rolls stone come back him.Whoso digging pit falleth roller stone turneth . Reporter Julia Jenae Sam Grover attorney filed complaint Judge Randall Rogers answer questions two part investigation creative probation efforts . Reporter Julia Jenae Sam Grover attorney filed complaint Judge Randall Rogers answer questions two part investigation creative probation efforts . August young Texas couple came forward unusual story tell Judge forced get married . turns ones . Source KLTV Staff August young Texas couple came forward unusual story tell Judge forced get married . turns ones . Source KLTV Staff East Texas judge criticized requiring defendants court get married write Bible verses part criminal probation retired judge speaks behalf . Judge Randall Rogers Smith County faced scrutiny gave Tyler resident Josten Bundy option marrying 19 year old girlfriend going jail 15 days . Bundy story gained international attention August prompted filing official complaint judge State Commission Judicial Conduct . RELATED Judge sentences East Texas man get married face jail time Rogers declined comment sentencing probation practices retired district judge Cynthia Stevens Kent said Rogers ethically respond . incredibly frustrating judges part job take blows respond publicly try work said Kent served bench Smith County 24 years . judge enormous discretion set probation long conditions meant protect victim protect society work toward rehabilitation individual . Kent believes giving couples incentive get married falls within category benefiting society . think traditionally family unit commitment stability positive thing helping people engage criminal activity said Kent . known Judge Rogers long time known thoughtful hardworking . RELATED Texas judge tells couples Get married stay away Sam Grover Wisconsin attorney Freedom Religion Foundation FFRF filed complaint Rogers August disagrees . Judges government actors need keep personal religious bias courtroom said Grover . found Rogers ordered man write Proverbs 26 27 twenty five times day get married avoid going jail . Grover said marriage order permissible Bible verses homework violates separation church state . one issue Freedom Religion Foundation actually finds aligned lot religious groups Grover said . see marriage sacred thing two people really want judge government official weighing . complaint State Commission Judicial Conduct SCJC pending . Grover said take year get decision SCJC . commission investigates complaints Texas judges receives made 13 members including East Texas judge Joel Baker Smith County . Read Freedom Religion Foundation issues complaint judge forced marriage case Despite criticism people across nation Kent said incentive marry courts appropriate region . community attitude changes shifts sometimes judges little behind change shift said Kent . know issue real change shift community still think community family marriage commitment important . Grover said judges generally immune sued decisions make bench . typical way fight disagreeable ruling judge agree appeal higher court happen reported cases . really left judicial ethics commission way make sure justice served case Grover said . Rogers judge 25 years ran unopposed County Court Law 2 judge 2010 2014 . election 2018 . Copyright 2015 KLTV . rights reserved .\n"
          ]
        }
      ],
      "source": [
        "# Display the cleaned DataFrame\n",
        "print(df.at[0, 'Documents'])"
      ]
    },
    {
      "cell_type": "code",
      "execution_count": 10,
      "metadata": {
        "id": "9jQBUV_bLAU5"
      },
      "outputs": [],
      "source": [
        "# Path to save the CSV file\n",
        "output_csv_path = 'article_claim_cleaned.csv'\n",
        "\n",
        "# Export the DataFrame to a CSV file\n",
        "df.to_csv(output_csv_path, index=False)"
      ]
    },
    {
      "cell_type": "markdown",
      "metadata": {
        "id": "kSBqUINSLAU5"
      },
      "source": [
        "## **2.0 Baseline Model**"
      ]
    },
    {
      "cell_type": "code",
      "execution_count": 11,
      "metadata": {
        "id": "k9IJFENgr91i"
      },
      "outputs": [],
      "source": [
        "#Read the cleaned csv file\n",
        "df1 = pd.read_csv('/content/drive/MyDrive/NLP Project/Data/article_claim_cleaned.csv')"
      ]
    },
    {
      "cell_type": "code",
      "execution_count": 12,
      "metadata": {
        "id": "ZusgFIvfG-fQ"
      },
      "outputs": [],
      "source": [
        "# Create a training and test DataFrame\n",
        "df_train = df1[:5994].copy() #Since they are independent, this ensures theres no imbalance between the classes\n",
        "df_test = df1[5994:].copy()"
      ]
    },
    {
      "cell_type": "code",
      "execution_count": 13,
      "metadata": {
        "colab": {
          "base_uri": "https://localhost:8080/",
          "height": 35
        },
        "id": "dU8NxZkB4odV",
        "outputId": "2420aac8-854f-4cbf-c347-b76d2dfea721"
      },
      "outputs": [
        {
          "output_type": "execute_result",
          "data": {
            "text/plain": [
              "'A complaint has been filed against the judge with the State Commission for Judicial Conduct.'"
            ],
            "application/vnd.google.colaboratory.intrinsic+json": {
              "type": "string"
            }
          },
          "metadata": {},
          "execution_count": 13
        }
      ],
      "source": [
        "df_train['Claim'][0]"
      ]
    },
    {
      "cell_type": "code",
      "execution_count": 14,
      "metadata": {
        "colab": {
          "base_uri": "https://localhost:8080/",
          "height": 178
        },
        "id": "OGz7XZGY4cnX",
        "outputId": "18223530-3870-4103-8f32-b2e49bd01cce"
      },
      "outputs": [
        {
          "output_type": "execute_result",
          "data": {
            "text/plain": [
              "'Whoever digs pit fall someone rolls stone roll back them.If set trap others get caught . roll boulder others crush instead.Whoever digs pit fall stone come back starts rolling.He digs pit fall whoever rolls stone come back him.He digs pit fall rolls stone come back him.Whoso diggeth pit shall fall therein rolleth stone return upon him.The one digs pit fall whoever rolls stoneit come back him.If dig pit fall start stone rolling roll back you.People set traps others get caught . People start landslides get crushed.The one digs pit fall whoever rolls stone come back him.Whoever digs pit fall stone come back whoever starts rolling.The one digs pit fall one rolls stoneit come back him.Whoever digs pit shall fall . Whoever rolls stone come back him.He digs ditch fall rolls stone return upon him.Whoever digs pit fall . Whoever rolls stone roll back him.Whoso diggeth pit shall fall therein rolleth stone shall return upon him.He digs pit fall rolls stone come back him.Whosoever digs pit shall fall therein rolls stone return upon him.Whosoever digs pit shall fall rolls stone return upon him.Whoever digs pit shall fall therein rolls stone return him.Whoso diggeth pit shall fall therein rolleth stone shall return upon him.He digs pit neighbour shall fall rolls stone rolls upon himself.He diggeth pit shall fall rolleth stone shall return him.Whoso diggeth pit shall fall therein rolleth stone shall return upon him.Whoso diggeth pit shall fall therein rolleth stone shall return upon him.Whoever diggeth pit shall fall rolleth stone return upon him.Whoever digs pit shall fall . Whoever rolls stone come back him.Whoso digging pit falleth roller stone turneth . Reporter Julia Jenae Sam Grover attorney filed complaint Judge Randall Rogers answer questions twopart investigation creative probation efforts . Reporter Julia Jenae Sam Grover attorney filed complaint Judge Randall Rogers answer questions twopart investigation creative probation efforts . August young Texas couple came forward unusual story tell Judge forced get married . turns ones . Source KLTV Staff August young Texas couple came forward unusual story tell Judge forced get married . turns ones . Source KLTV Staff East Texas judge criticized requiring defendants court get married write Bible verses part criminal probation retired judge speaks behalf . Judge Randall Rogers Smith County faced scrutiny gave Tyler resident Josten Bundy option marrying 19year old girlfriend going jail 15 days . Bundy story gained international attention August prompted filing official complaint judge State Commission Judicial Conduct . RELATED Judge sentences East Texas man get married face jail time Rogers declined comment sentencing probation practices retired district judge Cynthia Stevens Kent said Rogers ethically respond . incredibly frustrating judges part job take blows respond publicly try work said Kent served bench Smith County 24 years . judge enormous discretion set probation long conditions meant protect victim protect society work toward rehabilitation individual . Kent believes giving couples incentive get married falls within category benefiting society . think traditionally family unit commitment stability positive thing helping people engage criminal activity said Kent . known Judge Rogers long time known thoughtful hardworking . RELATED Texas judge tells couples Get married stay away Sam Grover Wisconsin attorney Freedom Religion Foundation FFRF filed complaint Rogers August disagrees . Judges government actors need keep personal religious bias courtroom said Grover . found Rogers ordered man write Proverbs 2627 twentyfive times day get married avoid going jail . Grover said marriage order permissible Bible verses homework violates separation church state . one issue Freedom Religion Foundation actually finds aligned lot religious groups Grover said . see marriage sacred thing two people really want judge government official weighing . complaint State Commission Judicial ConductSCJC pending . Grover said take year get decision SCJC . commission investigates complaints Texas judges receives made 13 members including East Texas judge Joel Baker Smith County . Read Freedom Religion Foundation issues complaint judge forced marriage case Despite criticism people across nation Kent said incentive marry courts appropriate region . community attitude changes shifts sometimes judges little behind change shift said Kent . know issue real change shift community still think community family marriage commitment important . Grover said judges generally immune sued decisions make bench . typical way fight disagreeable ruling judge agree appeal higher court happen reported cases . really left judicial ethics commission way make sure justice served case Grover said . Rogers judge 25 years ran unopposed County Court Law 2 judge 2010 2014 . reelection 2018 . Copyright 2015 KLTV . rights reserved .'"
            ],
            "application/vnd.google.colaboratory.intrinsic+json": {
              "type": "string"
            }
          },
          "metadata": {},
          "execution_count": 14
        }
      ],
      "source": [
        "df_train['Documents'][0]"
      ]
    },
    {
      "cell_type": "markdown",
      "source": [
        "### 2.1 Feature Vectors for Training and Testing"
      ],
      "metadata": {
        "id": "qXbkehumiCTv"
      }
    },
    {
      "cell_type": "code",
      "source": [
        "# Dictionaries to keep track of unique heads and bodies for training\n",
        "heads_track, bodies_track = {}, {}\n",
        "test_heads_track, test_bodies_track = {}, {}\n",
        "\n",
        "# Lists to store unique heads, bodies, and their corresponding indices for training\n",
        "heads, bodies, body_ids = [], [], []\n",
        "test_heads, test_bodies, test_body_ids = [], [], []\n",
        "\n",
        "# Dictionary to map original indices to new indices for training\n",
        "id_ref = {}\n",
        "\n",
        "# Iterate through rows in the training dataframe\n",
        "for index, row in df_train.iterrows():\n",
        "    head, body = row['Claim'], row['Documents']\n",
        "\n",
        "    # Track unique heads and bodies for training\n",
        "    if head not in heads_track:\n",
        "        heads.append(head)\n",
        "        heads_track[head] = 1\n",
        "    if body not in bodies_track:\n",
        "        bodies.append(body)\n",
        "        bodies_track[body] = 1\n",
        "        body_ids.append(index)\n",
        "\n",
        "# Create a mapping of original indices to new indices for training\n",
        "for i, elem in enumerate(heads + body_ids):\n",
        "    id_ref[elem] = i\n",
        "\n",
        "# Use CountVectorizer-TF to create bag-of-words representation for training\n",
        "bow_vectorizer = CountVectorizer(max_features=5000)\n",
        "bow = bow_vectorizer.fit_transform(heads + bodies)\n",
        "\n",
        "# Use TfidfTransformer to compute term frequencies for training\n",
        "tfreq_vectorizer = TfidfTransformer(use_idf=False).fit(bow)\n",
        "tfreq = tfreq_vectorizer.transform(bow).toarray()\n",
        "\n",
        "# Use TfidfVectorizer to compute TF-IDF representation for training\n",
        "tfidf_vectorizer = TfidfVectorizer(max_features=5000).fit(heads + bodies)\n",
        "\n",
        "# Lists to store features and labels for training\n",
        "train_features, train_labels = [], []\n",
        "\n",
        "# Dictionaries to keep track of TF-IDF vectors and cosine similarities for training\n",
        "head_tfidf_track, body_tfidf_track, cos_track = {}, {}, {}\n",
        "\n",
        "# Iterate through rows in the training dataframe\n",
        "for index, row in df_train.iterrows():\n",
        "    head, body = row['Claim'], row['Documents']\n",
        "    body_id = body_ids[bodies.index(body)]\n",
        "\n",
        "    # Extract TF representations for training\n",
        "    head_tf = tfreq[id_ref[head]].reshape(1, -1)\n",
        "    body_tf = tfreq[id_ref[body_id]].reshape(1, -1)\n",
        "\n",
        "    # Check if TF-IDF vectors and cosine similarity are already computed for training\n",
        "    if head not in head_tfidf_track:\n",
        "        head_tfidf = tfidf_vectorizer.transform([head]).toarray()\n",
        "        head_tfidf_track[head] = head_tfidf\n",
        "    else:\n",
        "        head_tfidf = head_tfidf_track[head]\n",
        "    if body not in body_tfidf_track:\n",
        "        body_tfidf = tfidf_vectorizer.transform([body]).toarray()\n",
        "        body_tfidf_track[body] = body_tfidf\n",
        "    else:\n",
        "        body_tfidf = body_tfidf_track[body]\n",
        "    if (head, body) not in cos_track:\n",
        "        tfidf_cos = cosine_similarity(head_tfidf, body_tfidf)[0].reshape(1, 1)\n",
        "        cos_track[(head, body)] = tfidf_cos\n",
        "    else:\n",
        "        tfidf_cos = cos_track[(head, body)]\n",
        "\n",
        "    # Concatenate features into a single vector for training\n",
        "    feat_vec = np.squeeze(np.c_[head_tf, tfidf_cos, body_tf])\n",
        "\n",
        "    # Append features and labels to the respective lists for training\n",
        "    train_features.append(feat_vec)\n",
        "    train_labels.append(row['label'])"
      ],
      "metadata": {
        "id": "TKAj-rZbNdYI"
      },
      "execution_count": 15,
      "outputs": []
    },
    {
      "cell_type": "code",
      "execution_count": 16,
      "metadata": {
        "id": "z5CaJULKHfC7"
      },
      "outputs": [],
      "source": [
        "# Dictionary to keep track of unique heads and bodies\n",
        "heads_track, bodies_track = {}, {}\n",
        "test_heads_track, test_bodies_track = {}, {}\n",
        "\n",
        "# Lists to store unique heads, bodies, and their corresponding indices\n",
        "heads, bodies, body_ids = [], [], []\n",
        "test_heads, test_bodies, test_body_ids = [], [], []\n",
        "\n",
        "# Dictionary to map original indices to new indices\n",
        "id_ref = {}\n",
        "\n",
        "# Iterate through rows in the test dataframe\n",
        "for index, row in df_test.iterrows():\n",
        "    head, body = row['Claim'], row['Documents']\n",
        "\n",
        "    # Track unique heads and bodies\n",
        "    if head not in heads_track:\n",
        "        heads.append(head)\n",
        "        heads_track[head] = 1\n",
        "    if body not in bodies_track:\n",
        "        bodies.append(body)\n",
        "        bodies_track[body] = 1\n",
        "        body_ids.append(index)\n",
        "\n",
        "# Create a mapping of original indices to new indices\n",
        "for i, elem in enumerate(heads + body_ids):\n",
        "    id_ref[elem] = i\n",
        "\n",
        "# Use CountVectorizer to create bag-of-words representation\n",
        "bow_vectorizer = CountVectorizer(max_features=5000)\n",
        "bow = bow_vectorizer.fit_transform(heads + bodies)\n",
        "\n",
        "# Use TfidfTransformer to compute term frequencies\n",
        "tfreq_vectorizer = TfidfTransformer(use_idf=False).fit(bow)\n",
        "tfreq = tfreq_vectorizer.transform(bow).toarray()\n",
        "\n",
        "# Use TfidfVectorizer to compute TF-IDF representation\n",
        "tfidf_vectorizer = TfidfVectorizer(max_features=5000).fit(heads + bodies)\n",
        "\n",
        "# Lists to store features and labels for the test set\n",
        "test_features, test_labels = [], []\n",
        "\n",
        "# Dictionaries to keep track of TF-IDF vectors and cosine similarities\n",
        "head_tfidf_track, body_tfidf_track, cos_track = {}, {}, {}\n",
        "\n",
        "# Iterate through rows in the test dataframe\n",
        "for index, row in df_test.iterrows():\n",
        "    head, body = row['Claim'], row['Documents']\n",
        "    body_id = body_ids[bodies.index(body)]\n",
        "\n",
        "    # Extract TF representations\n",
        "    head_tf = tfreq[id_ref[head]].reshape(1, -1)\n",
        "    body_tf = tfreq[id_ref[body_id]].reshape(1, -1)\n",
        "\n",
        "    # Check if TF-IDF vectors and cosine similarity are already computed\n",
        "    if head not in head_tfidf_track:\n",
        "        head_tfidf = tfidf_vectorizer.transform([head]).toarray()\n",
        "        head_tfidf_track[head] = head_tfidf\n",
        "    else:\n",
        "        head_tfidf = head_tfidf_track[head]\n",
        "    if body not in body_tfidf_track:\n",
        "        body_tfidf = tfidf_vectorizer.transform([body]).toarray()\n",
        "        body_tfidf_track[body] = body_tfidf\n",
        "    else:\n",
        "        body_tfidf = body_tfidf_track[body]\n",
        "    if (head, body) not in cos_track:\n",
        "        tfidf_cos = cosine_similarity(head_tfidf, body_tfidf)[0].reshape(1, 1)\n",
        "        cos_track[(head, body)] = tfidf_cos\n",
        "    else:\n",
        "        tfidf_cos = cos_track[(head, body)]\n",
        "\n",
        "    # Concatenate features into a single vector\n",
        "    feat_vec = np.squeeze(np.c_[head_tf, tfidf_cos, body_tf])\n",
        "\n",
        "    # Append features and labels to the respective lists\n",
        "    test_features.append(feat_vec)\n",
        "    test_labels.append(row['label'])"
      ]
    },
    {
      "cell_type": "code",
      "execution_count": 17,
      "metadata": {
        "id": "abrMqlkPjfEb"
      },
      "outputs": [],
      "source": [
        "# Convert the training features and labels into NumPy arrays\n",
        "train_features = np.array(train_features)\n",
        "train_labels = np.array(train_labels)\n",
        "test_features = np.array(test_features)\n",
        "test_labels = np.array(test_labels)"
      ]
    },
    {
      "cell_type": "markdown",
      "source": [
        "### 2.2 Baseline Model Building"
      ],
      "metadata": {
        "id": "TkHZH5D9iMH4"
      }
    },
    {
      "cell_type": "code",
      "execution_count": 18,
      "metadata": {
        "colab": {
          "base_uri": "https://localhost:8080/"
        },
        "id": "NJRupzCYihEL",
        "outputId": "498f6f19-81b2-40d9-ffcb-12c73e35b7c2"
      },
      "outputs": [
        {
          "output_type": "stream",
          "name": "stdout",
          "text": [
            "Epoch 1/20\n"
          ]
        },
        {
          "output_type": "stream",
          "name": "stderr",
          "text": [
            "/usr/local/lib/python3.10/dist-packages/keras/src/backend.py:5727: UserWarning: \"`sparse_categorical_crossentropy` received `from_logits=True`, but the `output` argument was produced by a Softmax activation and thus does not represent logits. Was this intended?\n",
            "  output, from_logits = _get_logits(\n"
          ]
        },
        {
          "output_type": "stream",
          "name": "stdout",
          "text": [
            "188/188 [==============================] - 4s 5ms/step - loss: 1.0838 - accuracy: 0.3655\n",
            "Epoch 2/20\n",
            "188/188 [==============================] - 1s 5ms/step - loss: 0.9908 - accuracy: 0.4556\n",
            "Epoch 3/20\n",
            "188/188 [==============================] - 1s 5ms/step - loss: 0.9053 - accuracy: 0.5033\n",
            "Epoch 4/20\n",
            "188/188 [==============================] - 1s 4ms/step - loss: 0.8303 - accuracy: 0.5334\n",
            "Epoch 5/20\n",
            "188/188 [==============================] - 1s 3ms/step - loss: 0.7639 - accuracy: 0.5667\n",
            "Epoch 6/20\n",
            "188/188 [==============================] - 1s 3ms/step - loss: 0.7082 - accuracy: 0.5956\n",
            "Epoch 7/20\n",
            "188/188 [==============================] - 1s 3ms/step - loss: 0.6599 - accuracy: 0.6270\n",
            "Epoch 8/20\n",
            "188/188 [==============================] - 1s 3ms/step - loss: 0.6187 - accuracy: 0.6557\n",
            "Epoch 9/20\n",
            "188/188 [==============================] - 1s 3ms/step - loss: 0.5745 - accuracy: 0.7010\n",
            "Epoch 10/20\n",
            "188/188 [==============================] - 1s 3ms/step - loss: 0.5203 - accuracy: 0.7292\n",
            "Epoch 11/20\n",
            "188/188 [==============================] - 1s 3ms/step - loss: 0.4690 - accuracy: 0.7766\n",
            "Epoch 12/20\n",
            "188/188 [==============================] - 1s 3ms/step - loss: 0.4185 - accuracy: 0.8055\n",
            "Epoch 13/20\n",
            "188/188 [==============================] - 1s 3ms/step - loss: 0.3555 - accuracy: 0.8340\n",
            "Epoch 14/20\n",
            "188/188 [==============================] - 1s 3ms/step - loss: 0.3145 - accuracy: 0.8514\n",
            "Epoch 15/20\n",
            "188/188 [==============================] - 1s 3ms/step - loss: 0.2779 - accuracy: 0.8715\n",
            "Epoch 16/20\n",
            "188/188 [==============================] - 1s 3ms/step - loss: 0.2486 - accuracy: 0.8810\n",
            "Epoch 17/20\n",
            "188/188 [==============================] - 1s 3ms/step - loss: 0.2273 - accuracy: 0.8872\n",
            "Epoch 18/20\n",
            "188/188 [==============================] - 1s 3ms/step - loss: 0.2178 - accuracy: 0.8932\n",
            "Epoch 19/20\n",
            "188/188 [==============================] - 1s 3ms/step - loss: 0.1859 - accuracy: 0.9047\n",
            "Epoch 20/20\n",
            "188/188 [==============================] - 1s 5ms/step - loss: 0.1783 - accuracy: 0.9074\n"
          ]
        }
      ],
      "source": [
        "model = Sequential()\n",
        "\n",
        "#1st hidden layer\n",
        "model.add(Dense(100, input_dim=train_features.shape[1], activation='relu'))\n",
        "#Second hidden layer\n",
        "model.add(Dense(50, activation='relu'))\n",
        "#third hidden layer\n",
        "model.add(Dense(25, activation='relu'))\n",
        "#Output layer\n",
        "model.add(Dense(3, activation='softmax'))\n",
        "\n",
        "model.compile(optimizer='adam',\n",
        "              loss=tf.keras.losses.SparseCategoricalCrossentropy(from_logits=True),\n",
        "              metrics=['accuracy'])\n",
        "\n",
        "# Train the model\n",
        "history = model.fit(train_features, train_labels, epochs=20, batch_size=32)"
      ]
    },
    {
      "cell_type": "code",
      "source": [
        "df_history = pd.DataFrame(history.history)\n",
        "df_history['epoch'] = range(1, len(df_history) + 1)\n",
        "fig = go.Figure()\n",
        "\n",
        "# Plot training accuracy\n",
        "fig.add_trace(go.Scatter(x=df_history['epoch'], y=df_history['accuracy'],\n",
        "                         mode='lines+markers', name='Training Accuracy'))\n",
        "\n",
        "# Plot training loss on a secondary y-axis\n",
        "fig.add_trace(go.Scatter(x=df_history['epoch'], y=df_history['loss'],\n",
        "                         mode='lines+markers', name='Training Loss', yaxis='y2'))\n",
        "\n",
        "# Update layout\n",
        "fig.update_layout(title='Training Accuracy and Loss',\n",
        "                  xaxis_title='Epochs',\n",
        "                  yaxis_title='Accuracy',\n",
        "                  yaxis2=dict(title='Loss', overlaying='y', side='right'),\n",
        "                  template='plotly_white',\n",
        "                  legend=dict(x=1.1, y=1, traceorder='normal'))\n",
        "\n",
        "# Show the plot\n",
        "fig.show()"
      ],
      "metadata": {
        "colab": {
          "base_uri": "https://localhost:8080/",
          "height": 542
        },
        "id": "hs_ZLZjyr8BY",
        "outputId": "ed9f2315-81d6-4f90-d404-49ea33fbecfd"
      },
      "execution_count": 25,
      "outputs": [
        {
          "output_type": "display_data",
          "data": {
            "text/html": [
              "<html>\n",
              "<head><meta charset=\"utf-8\" /></head>\n",
              "<body>\n",
              "    <div>            <script src=\"https://cdnjs.cloudflare.com/ajax/libs/mathjax/2.7.5/MathJax.js?config=TeX-AMS-MML_SVG\"></script><script type=\"text/javascript\">if (window.MathJax && window.MathJax.Hub && window.MathJax.Hub.Config) {window.MathJax.Hub.Config({SVG: {font: \"STIX-Web\"}});}</script>                <script type=\"text/javascript\">window.PlotlyConfig = {MathJaxConfig: 'local'};</script>\n",
              "        <script charset=\"utf-8\" src=\"https://cdn.plot.ly/plotly-2.24.1.min.js\"></script>                <div id=\"69c0cfa3-e082-4ac1-bc50-d463a7805644\" class=\"plotly-graph-div\" style=\"height:525px; width:100%;\"></div>            <script type=\"text/javascript\">                                    window.PLOTLYENV=window.PLOTLYENV || {};                                    if (document.getElementById(\"69c0cfa3-e082-4ac1-bc50-d463a7805644\")) {                    Plotly.newPlot(                        \"69c0cfa3-e082-4ac1-bc50-d463a7805644\",                        [{\"mode\":\"lines+markers\",\"name\":\"Training Accuracy\",\"x\":[1,2,3,4,5,6,7,8,9,10,11,12,13,14,15,16,17,18,19,20],\"y\":[0.36553218960762024,0.45562228560447693,0.5033366680145264,0.5333666801452637,0.5667334198951721,0.5955955982208252,0.626960277557373,0.6556556820869446,0.7010343670845032,0.729229211807251,0.7766099572181702,0.8054721355438232,0.8340006470680237,0.8513513803482056,0.8715382218360901,0.8810477256774902,0.887220561504364,0.8932265639305115,0.9047380685806274,0.9074074029922485],\"type\":\"scatter\"},{\"mode\":\"lines+markers\",\"name\":\"Training Loss\",\"x\":[1,2,3,4,5,6,7,8,9,10,11,12,13,14,15,16,17,18,19,20],\"y\":[1.0837656259536743,0.9907532334327698,0.9052734375,0.8302727937698364,0.7638640999794006,0.7081841230392456,0.6599088311195374,0.6187259554862976,0.5744669437408447,0.5202895998954773,0.4689820110797882,0.4185144603252411,0.3554952144622803,0.31449514627456665,0.2778863310813904,0.24858807027339935,0.22725538909435272,0.2177761048078537,0.18588513135910034,0.1783309131860733],\"yaxis\":\"y2\",\"type\":\"scatter\"}],                        {\"template\":{\"data\":{\"barpolar\":[{\"marker\":{\"line\":{\"color\":\"white\",\"width\":0.5},\"pattern\":{\"fillmode\":\"overlay\",\"size\":10,\"solidity\":0.2}},\"type\":\"barpolar\"}],\"bar\":[{\"error_x\":{\"color\":\"#2a3f5f\"},\"error_y\":{\"color\":\"#2a3f5f\"},\"marker\":{\"line\":{\"color\":\"white\",\"width\":0.5},\"pattern\":{\"fillmode\":\"overlay\",\"size\":10,\"solidity\":0.2}},\"type\":\"bar\"}],\"carpet\":[{\"aaxis\":{\"endlinecolor\":\"#2a3f5f\",\"gridcolor\":\"#C8D4E3\",\"linecolor\":\"#C8D4E3\",\"minorgridcolor\":\"#C8D4E3\",\"startlinecolor\":\"#2a3f5f\"},\"baxis\":{\"endlinecolor\":\"#2a3f5f\",\"gridcolor\":\"#C8D4E3\",\"linecolor\":\"#C8D4E3\",\"minorgridcolor\":\"#C8D4E3\",\"startlinecolor\":\"#2a3f5f\"},\"type\":\"carpet\"}],\"choropleth\":[{\"colorbar\":{\"outlinewidth\":0,\"ticks\":\"\"},\"type\":\"choropleth\"}],\"contourcarpet\":[{\"colorbar\":{\"outlinewidth\":0,\"ticks\":\"\"},\"type\":\"contourcarpet\"}],\"contour\":[{\"colorbar\":{\"outlinewidth\":0,\"ticks\":\"\"},\"colorscale\":[[0.0,\"#0d0887\"],[0.1111111111111111,\"#46039f\"],[0.2222222222222222,\"#7201a8\"],[0.3333333333333333,\"#9c179e\"],[0.4444444444444444,\"#bd3786\"],[0.5555555555555556,\"#d8576b\"],[0.6666666666666666,\"#ed7953\"],[0.7777777777777778,\"#fb9f3a\"],[0.8888888888888888,\"#fdca26\"],[1.0,\"#f0f921\"]],\"type\":\"contour\"}],\"heatmapgl\":[{\"colorbar\":{\"outlinewidth\":0,\"ticks\":\"\"},\"colorscale\":[[0.0,\"#0d0887\"],[0.1111111111111111,\"#46039f\"],[0.2222222222222222,\"#7201a8\"],[0.3333333333333333,\"#9c179e\"],[0.4444444444444444,\"#bd3786\"],[0.5555555555555556,\"#d8576b\"],[0.6666666666666666,\"#ed7953\"],[0.7777777777777778,\"#fb9f3a\"],[0.8888888888888888,\"#fdca26\"],[1.0,\"#f0f921\"]],\"type\":\"heatmapgl\"}],\"heatmap\":[{\"colorbar\":{\"outlinewidth\":0,\"ticks\":\"\"},\"colorscale\":[[0.0,\"#0d0887\"],[0.1111111111111111,\"#46039f\"],[0.2222222222222222,\"#7201a8\"],[0.3333333333333333,\"#9c179e\"],[0.4444444444444444,\"#bd3786\"],[0.5555555555555556,\"#d8576b\"],[0.6666666666666666,\"#ed7953\"],[0.7777777777777778,\"#fb9f3a\"],[0.8888888888888888,\"#fdca26\"],[1.0,\"#f0f921\"]],\"type\":\"heatmap\"}],\"histogram2dcontour\":[{\"colorbar\":{\"outlinewidth\":0,\"ticks\":\"\"},\"colorscale\":[[0.0,\"#0d0887\"],[0.1111111111111111,\"#46039f\"],[0.2222222222222222,\"#7201a8\"],[0.3333333333333333,\"#9c179e\"],[0.4444444444444444,\"#bd3786\"],[0.5555555555555556,\"#d8576b\"],[0.6666666666666666,\"#ed7953\"],[0.7777777777777778,\"#fb9f3a\"],[0.8888888888888888,\"#fdca26\"],[1.0,\"#f0f921\"]],\"type\":\"histogram2dcontour\"}],\"histogram2d\":[{\"colorbar\":{\"outlinewidth\":0,\"ticks\":\"\"},\"colorscale\":[[0.0,\"#0d0887\"],[0.1111111111111111,\"#46039f\"],[0.2222222222222222,\"#7201a8\"],[0.3333333333333333,\"#9c179e\"],[0.4444444444444444,\"#bd3786\"],[0.5555555555555556,\"#d8576b\"],[0.6666666666666666,\"#ed7953\"],[0.7777777777777778,\"#fb9f3a\"],[0.8888888888888888,\"#fdca26\"],[1.0,\"#f0f921\"]],\"type\":\"histogram2d\"}],\"histogram\":[{\"marker\":{\"pattern\":{\"fillmode\":\"overlay\",\"size\":10,\"solidity\":0.2}},\"type\":\"histogram\"}],\"mesh3d\":[{\"colorbar\":{\"outlinewidth\":0,\"ticks\":\"\"},\"type\":\"mesh3d\"}],\"parcoords\":[{\"line\":{\"colorbar\":{\"outlinewidth\":0,\"ticks\":\"\"}},\"type\":\"parcoords\"}],\"pie\":[{\"automargin\":true,\"type\":\"pie\"}],\"scatter3d\":[{\"line\":{\"colorbar\":{\"outlinewidth\":0,\"ticks\":\"\"}},\"marker\":{\"colorbar\":{\"outlinewidth\":0,\"ticks\":\"\"}},\"type\":\"scatter3d\"}],\"scattercarpet\":[{\"marker\":{\"colorbar\":{\"outlinewidth\":0,\"ticks\":\"\"}},\"type\":\"scattercarpet\"}],\"scattergeo\":[{\"marker\":{\"colorbar\":{\"outlinewidth\":0,\"ticks\":\"\"}},\"type\":\"scattergeo\"}],\"scattergl\":[{\"marker\":{\"colorbar\":{\"outlinewidth\":0,\"ticks\":\"\"}},\"type\":\"scattergl\"}],\"scattermapbox\":[{\"marker\":{\"colorbar\":{\"outlinewidth\":0,\"ticks\":\"\"}},\"type\":\"scattermapbox\"}],\"scatterpolargl\":[{\"marker\":{\"colorbar\":{\"outlinewidth\":0,\"ticks\":\"\"}},\"type\":\"scatterpolargl\"}],\"scatterpolar\":[{\"marker\":{\"colorbar\":{\"outlinewidth\":0,\"ticks\":\"\"}},\"type\":\"scatterpolar\"}],\"scatter\":[{\"fillpattern\":{\"fillmode\":\"overlay\",\"size\":10,\"solidity\":0.2},\"type\":\"scatter\"}],\"scatterternary\":[{\"marker\":{\"colorbar\":{\"outlinewidth\":0,\"ticks\":\"\"}},\"type\":\"scatterternary\"}],\"surface\":[{\"colorbar\":{\"outlinewidth\":0,\"ticks\":\"\"},\"colorscale\":[[0.0,\"#0d0887\"],[0.1111111111111111,\"#46039f\"],[0.2222222222222222,\"#7201a8\"],[0.3333333333333333,\"#9c179e\"],[0.4444444444444444,\"#bd3786\"],[0.5555555555555556,\"#d8576b\"],[0.6666666666666666,\"#ed7953\"],[0.7777777777777778,\"#fb9f3a\"],[0.8888888888888888,\"#fdca26\"],[1.0,\"#f0f921\"]],\"type\":\"surface\"}],\"table\":[{\"cells\":{\"fill\":{\"color\":\"#EBF0F8\"},\"line\":{\"color\":\"white\"}},\"header\":{\"fill\":{\"color\":\"#C8D4E3\"},\"line\":{\"color\":\"white\"}},\"type\":\"table\"}]},\"layout\":{\"annotationdefaults\":{\"arrowcolor\":\"#2a3f5f\",\"arrowhead\":0,\"arrowwidth\":1},\"autotypenumbers\":\"strict\",\"coloraxis\":{\"colorbar\":{\"outlinewidth\":0,\"ticks\":\"\"}},\"colorscale\":{\"diverging\":[[0,\"#8e0152\"],[0.1,\"#c51b7d\"],[0.2,\"#de77ae\"],[0.3,\"#f1b6da\"],[0.4,\"#fde0ef\"],[0.5,\"#f7f7f7\"],[0.6,\"#e6f5d0\"],[0.7,\"#b8e186\"],[0.8,\"#7fbc41\"],[0.9,\"#4d9221\"],[1,\"#276419\"]],\"sequential\":[[0.0,\"#0d0887\"],[0.1111111111111111,\"#46039f\"],[0.2222222222222222,\"#7201a8\"],[0.3333333333333333,\"#9c179e\"],[0.4444444444444444,\"#bd3786\"],[0.5555555555555556,\"#d8576b\"],[0.6666666666666666,\"#ed7953\"],[0.7777777777777778,\"#fb9f3a\"],[0.8888888888888888,\"#fdca26\"],[1.0,\"#f0f921\"]],\"sequentialminus\":[[0.0,\"#0d0887\"],[0.1111111111111111,\"#46039f\"],[0.2222222222222222,\"#7201a8\"],[0.3333333333333333,\"#9c179e\"],[0.4444444444444444,\"#bd3786\"],[0.5555555555555556,\"#d8576b\"],[0.6666666666666666,\"#ed7953\"],[0.7777777777777778,\"#fb9f3a\"],[0.8888888888888888,\"#fdca26\"],[1.0,\"#f0f921\"]]},\"colorway\":[\"#636efa\",\"#EF553B\",\"#00cc96\",\"#ab63fa\",\"#FFA15A\",\"#19d3f3\",\"#FF6692\",\"#B6E880\",\"#FF97FF\",\"#FECB52\"],\"font\":{\"color\":\"#2a3f5f\"},\"geo\":{\"bgcolor\":\"white\",\"lakecolor\":\"white\",\"landcolor\":\"white\",\"showlakes\":true,\"showland\":true,\"subunitcolor\":\"#C8D4E3\"},\"hoverlabel\":{\"align\":\"left\"},\"hovermode\":\"closest\",\"mapbox\":{\"style\":\"light\"},\"paper_bgcolor\":\"white\",\"plot_bgcolor\":\"white\",\"polar\":{\"angularaxis\":{\"gridcolor\":\"#EBF0F8\",\"linecolor\":\"#EBF0F8\",\"ticks\":\"\"},\"bgcolor\":\"white\",\"radialaxis\":{\"gridcolor\":\"#EBF0F8\",\"linecolor\":\"#EBF0F8\",\"ticks\":\"\"}},\"scene\":{\"xaxis\":{\"backgroundcolor\":\"white\",\"gridcolor\":\"#DFE8F3\",\"gridwidth\":2,\"linecolor\":\"#EBF0F8\",\"showbackground\":true,\"ticks\":\"\",\"zerolinecolor\":\"#EBF0F8\"},\"yaxis\":{\"backgroundcolor\":\"white\",\"gridcolor\":\"#DFE8F3\",\"gridwidth\":2,\"linecolor\":\"#EBF0F8\",\"showbackground\":true,\"ticks\":\"\",\"zerolinecolor\":\"#EBF0F8\"},\"zaxis\":{\"backgroundcolor\":\"white\",\"gridcolor\":\"#DFE8F3\",\"gridwidth\":2,\"linecolor\":\"#EBF0F8\",\"showbackground\":true,\"ticks\":\"\",\"zerolinecolor\":\"#EBF0F8\"}},\"shapedefaults\":{\"line\":{\"color\":\"#2a3f5f\"}},\"ternary\":{\"aaxis\":{\"gridcolor\":\"#DFE8F3\",\"linecolor\":\"#A2B1C6\",\"ticks\":\"\"},\"baxis\":{\"gridcolor\":\"#DFE8F3\",\"linecolor\":\"#A2B1C6\",\"ticks\":\"\"},\"bgcolor\":\"white\",\"caxis\":{\"gridcolor\":\"#DFE8F3\",\"linecolor\":\"#A2B1C6\",\"ticks\":\"\"}},\"title\":{\"x\":0.05},\"xaxis\":{\"automargin\":true,\"gridcolor\":\"#EBF0F8\",\"linecolor\":\"#EBF0F8\",\"ticks\":\"\",\"title\":{\"standoff\":15},\"zerolinecolor\":\"#EBF0F8\",\"zerolinewidth\":2},\"yaxis\":{\"automargin\":true,\"gridcolor\":\"#EBF0F8\",\"linecolor\":\"#EBF0F8\",\"ticks\":\"\",\"title\":{\"standoff\":15},\"zerolinecolor\":\"#EBF0F8\",\"zerolinewidth\":2}}},\"yaxis2\":{\"title\":{\"text\":\"Loss\"},\"overlaying\":\"y\",\"side\":\"right\"},\"legend\":{\"x\":1.1,\"y\":1,\"traceorder\":\"normal\"},\"title\":{\"text\":\"Training Accuracy and Loss\"},\"xaxis\":{\"title\":{\"text\":\"Epochs\"}},\"yaxis\":{\"title\":{\"text\":\"Accuracy\"}}},                        {\"responsive\": true}                    ).then(function(){\n",
              "                            \n",
              "var gd = document.getElementById('69c0cfa3-e082-4ac1-bc50-d463a7805644');\n",
              "var x = new MutationObserver(function (mutations, observer) {{\n",
              "        var display = window.getComputedStyle(gd).display;\n",
              "        if (!display || display === 'none') {{\n",
              "            console.log([gd, 'removed!']);\n",
              "            Plotly.purge(gd);\n",
              "            observer.disconnect();\n",
              "        }}\n",
              "}});\n",
              "\n",
              "// Listen for the removal of the full notebook cells\n",
              "var notebookContainer = gd.closest('#notebook-container');\n",
              "if (notebookContainer) {{\n",
              "    x.observe(notebookContainer, {childList: true});\n",
              "}}\n",
              "\n",
              "// Listen for the clearing of the current output cell\n",
              "var outputEl = gd.closest('.output');\n",
              "if (outputEl) {{\n",
              "    x.observe(outputEl, {childList: true});\n",
              "}}\n",
              "\n",
              "                        })                };                            </script>        </div>\n",
              "</body>\n",
              "</html>"
            ]
          },
          "metadata": {}
        }
      ]
    },
    {
      "cell_type": "markdown",
      "source": [
        "## **3.0 Model Results**"
      ],
      "metadata": {
        "id": "7zYu_9SSiWMt"
      }
    },
    {
      "cell_type": "code",
      "execution_count": null,
      "metadata": {
        "id": "44qD8HIbXejA"
      },
      "outputs": [],
      "source": [
        "predictions = model.predict(test_features)\n",
        "predicted_labels = np.argmax(predictions, axis=1)"
      ]
    },
    {
      "cell_type": "code",
      "source": [
        "accuracy = accuracy_score(test_labels, predicted_labels)\n",
        "macro_precision = precision_score(test_labels, predicted_labels, average='macro')\n",
        "macro_recall = recall_score(test_labels, predicted_labels, average='macro')\n",
        "f1 = f1_score(test_labels, predicted_labels, average='weighted')"
      ],
      "metadata": {
        "id": "s5nOZQDXQwxB"
      },
      "execution_count": null,
      "outputs": []
    },
    {
      "cell_type": "code",
      "source": [
        "metrics = ['Accuracy', 'Macro Precision', 'Macro Recall', 'F1 Score']\n",
        "values = [accuracy, macro_precision, micro_precision, f1]\n",
        "fig = px.bar(x=metrics, y=values, text=np.round(values, 4),\n",
        "             labels={'x': 'Metrics', 'y': 'Values'},\n",
        "             title='Evaluation Metrics',\n",
        "             template='plotly_white',\n",
        "              color=values,\n",
        "             color_continuous_scale='Viridis',\n",
        "              color_continuous_midpoint=None\n",
        "             )\n",
        "\n",
        "fig.update_layout(yaxis=dict(range=[0, 1]))\n",
        "\n",
        "fig.show()"
      ],
      "metadata": {
        "colab": {
          "base_uri": "https://localhost:8080/",
          "height": 542
        },
        "id": "BAWQ2CMrjwnw",
        "outputId": "b834aa7d-30ad-40ae-dd05-180582ae86c6"
      },
      "execution_count": null,
      "outputs": [
        {
          "output_type": "display_data",
          "data": {
            "text/html": [
              "<html>\n",
              "<head><meta charset=\"utf-8\" /></head>\n",
              "<body>\n",
              "    <div>            <script src=\"https://cdnjs.cloudflare.com/ajax/libs/mathjax/2.7.5/MathJax.js?config=TeX-AMS-MML_SVG\"></script><script type=\"text/javascript\">if (window.MathJax && window.MathJax.Hub && window.MathJax.Hub.Config) {window.MathJax.Hub.Config({SVG: {font: \"STIX-Web\"}});}</script>                <script type=\"text/javascript\">window.PlotlyConfig = {MathJaxConfig: 'local'};</script>\n",
              "        <script charset=\"utf-8\" src=\"https://cdn.plot.ly/plotly-2.24.1.min.js\"></script>                <div id=\"ccd65824-3189-4367-aaea-fa3ee6905c00\" class=\"plotly-graph-div\" style=\"height:525px; width:100%;\"></div>            <script type=\"text/javascript\">                                    window.PLOTLYENV=window.PLOTLYENV || {};                                    if (document.getElementById(\"ccd65824-3189-4367-aaea-fa3ee6905c00\")) {                    Plotly.newPlot(                        \"ccd65824-3189-4367-aaea-fa3ee6905c00\",                        [{\"alignmentgroup\":\"True\",\"hovertemplate\":\"Metrics=%{x}\\u003cbr\\u003eValues=%{y}\\u003cbr\\u003etext=%{text}\\u003cbr\\u003ecolor=%{marker.color}\\u003cextra\\u003e\\u003c\\u002fextra\\u003e\",\"legendgroup\":\"\",\"marker\":{\"color\":[0.38102372034956306,0.4162699778207564,0.38092821382490233,0.3719750513938585],\"coloraxis\":\"coloraxis\",\"pattern\":{\"shape\":\"\"}},\"name\":\"\",\"offsetgroup\":\"\",\"orientation\":\"v\",\"showlegend\":false,\"text\":[0.381,0.4163,0.3809,0.372],\"textposition\":\"auto\",\"x\":[\"Accuracy\",\"Macro Precision\",\"Macro Recall\",\"F1 Score\"],\"xaxis\":\"x\",\"y\":[0.38102372034956306,0.4162699778207564,0.38092821382490233,0.3719750513938585],\"yaxis\":\"y\",\"type\":\"bar\"}],                        {\"template\":{\"data\":{\"barpolar\":[{\"marker\":{\"line\":{\"color\":\"white\",\"width\":0.5},\"pattern\":{\"fillmode\":\"overlay\",\"size\":10,\"solidity\":0.2}},\"type\":\"barpolar\"}],\"bar\":[{\"error_x\":{\"color\":\"#2a3f5f\"},\"error_y\":{\"color\":\"#2a3f5f\"},\"marker\":{\"line\":{\"color\":\"white\",\"width\":0.5},\"pattern\":{\"fillmode\":\"overlay\",\"size\":10,\"solidity\":0.2}},\"type\":\"bar\"}],\"carpet\":[{\"aaxis\":{\"endlinecolor\":\"#2a3f5f\",\"gridcolor\":\"#C8D4E3\",\"linecolor\":\"#C8D4E3\",\"minorgridcolor\":\"#C8D4E3\",\"startlinecolor\":\"#2a3f5f\"},\"baxis\":{\"endlinecolor\":\"#2a3f5f\",\"gridcolor\":\"#C8D4E3\",\"linecolor\":\"#C8D4E3\",\"minorgridcolor\":\"#C8D4E3\",\"startlinecolor\":\"#2a3f5f\"},\"type\":\"carpet\"}],\"choropleth\":[{\"colorbar\":{\"outlinewidth\":0,\"ticks\":\"\"},\"type\":\"choropleth\"}],\"contourcarpet\":[{\"colorbar\":{\"outlinewidth\":0,\"ticks\":\"\"},\"type\":\"contourcarpet\"}],\"contour\":[{\"colorbar\":{\"outlinewidth\":0,\"ticks\":\"\"},\"colorscale\":[[0.0,\"#0d0887\"],[0.1111111111111111,\"#46039f\"],[0.2222222222222222,\"#7201a8\"],[0.3333333333333333,\"#9c179e\"],[0.4444444444444444,\"#bd3786\"],[0.5555555555555556,\"#d8576b\"],[0.6666666666666666,\"#ed7953\"],[0.7777777777777778,\"#fb9f3a\"],[0.8888888888888888,\"#fdca26\"],[1.0,\"#f0f921\"]],\"type\":\"contour\"}],\"heatmapgl\":[{\"colorbar\":{\"outlinewidth\":0,\"ticks\":\"\"},\"colorscale\":[[0.0,\"#0d0887\"],[0.1111111111111111,\"#46039f\"],[0.2222222222222222,\"#7201a8\"],[0.3333333333333333,\"#9c179e\"],[0.4444444444444444,\"#bd3786\"],[0.5555555555555556,\"#d8576b\"],[0.6666666666666666,\"#ed7953\"],[0.7777777777777778,\"#fb9f3a\"],[0.8888888888888888,\"#fdca26\"],[1.0,\"#f0f921\"]],\"type\":\"heatmapgl\"}],\"heatmap\":[{\"colorbar\":{\"outlinewidth\":0,\"ticks\":\"\"},\"colorscale\":[[0.0,\"#0d0887\"],[0.1111111111111111,\"#46039f\"],[0.2222222222222222,\"#7201a8\"],[0.3333333333333333,\"#9c179e\"],[0.4444444444444444,\"#bd3786\"],[0.5555555555555556,\"#d8576b\"],[0.6666666666666666,\"#ed7953\"],[0.7777777777777778,\"#fb9f3a\"],[0.8888888888888888,\"#fdca26\"],[1.0,\"#f0f921\"]],\"type\":\"heatmap\"}],\"histogram2dcontour\":[{\"colorbar\":{\"outlinewidth\":0,\"ticks\":\"\"},\"colorscale\":[[0.0,\"#0d0887\"],[0.1111111111111111,\"#46039f\"],[0.2222222222222222,\"#7201a8\"],[0.3333333333333333,\"#9c179e\"],[0.4444444444444444,\"#bd3786\"],[0.5555555555555556,\"#d8576b\"],[0.6666666666666666,\"#ed7953\"],[0.7777777777777778,\"#fb9f3a\"],[0.8888888888888888,\"#fdca26\"],[1.0,\"#f0f921\"]],\"type\":\"histogram2dcontour\"}],\"histogram2d\":[{\"colorbar\":{\"outlinewidth\":0,\"ticks\":\"\"},\"colorscale\":[[0.0,\"#0d0887\"],[0.1111111111111111,\"#46039f\"],[0.2222222222222222,\"#7201a8\"],[0.3333333333333333,\"#9c179e\"],[0.4444444444444444,\"#bd3786\"],[0.5555555555555556,\"#d8576b\"],[0.6666666666666666,\"#ed7953\"],[0.7777777777777778,\"#fb9f3a\"],[0.8888888888888888,\"#fdca26\"],[1.0,\"#f0f921\"]],\"type\":\"histogram2d\"}],\"histogram\":[{\"marker\":{\"pattern\":{\"fillmode\":\"overlay\",\"size\":10,\"solidity\":0.2}},\"type\":\"histogram\"}],\"mesh3d\":[{\"colorbar\":{\"outlinewidth\":0,\"ticks\":\"\"},\"type\":\"mesh3d\"}],\"parcoords\":[{\"line\":{\"colorbar\":{\"outlinewidth\":0,\"ticks\":\"\"}},\"type\":\"parcoords\"}],\"pie\":[{\"automargin\":true,\"type\":\"pie\"}],\"scatter3d\":[{\"line\":{\"colorbar\":{\"outlinewidth\":0,\"ticks\":\"\"}},\"marker\":{\"colorbar\":{\"outlinewidth\":0,\"ticks\":\"\"}},\"type\":\"scatter3d\"}],\"scattercarpet\":[{\"marker\":{\"colorbar\":{\"outlinewidth\":0,\"ticks\":\"\"}},\"type\":\"scattercarpet\"}],\"scattergeo\":[{\"marker\":{\"colorbar\":{\"outlinewidth\":0,\"ticks\":\"\"}},\"type\":\"scattergeo\"}],\"scattergl\":[{\"marker\":{\"colorbar\":{\"outlinewidth\":0,\"ticks\":\"\"}},\"type\":\"scattergl\"}],\"scattermapbox\":[{\"marker\":{\"colorbar\":{\"outlinewidth\":0,\"ticks\":\"\"}},\"type\":\"scattermapbox\"}],\"scatterpolargl\":[{\"marker\":{\"colorbar\":{\"outlinewidth\":0,\"ticks\":\"\"}},\"type\":\"scatterpolargl\"}],\"scatterpolar\":[{\"marker\":{\"colorbar\":{\"outlinewidth\":0,\"ticks\":\"\"}},\"type\":\"scatterpolar\"}],\"scatter\":[{\"fillpattern\":{\"fillmode\":\"overlay\",\"size\":10,\"solidity\":0.2},\"type\":\"scatter\"}],\"scatterternary\":[{\"marker\":{\"colorbar\":{\"outlinewidth\":0,\"ticks\":\"\"}},\"type\":\"scatterternary\"}],\"surface\":[{\"colorbar\":{\"outlinewidth\":0,\"ticks\":\"\"},\"colorscale\":[[0.0,\"#0d0887\"],[0.1111111111111111,\"#46039f\"],[0.2222222222222222,\"#7201a8\"],[0.3333333333333333,\"#9c179e\"],[0.4444444444444444,\"#bd3786\"],[0.5555555555555556,\"#d8576b\"],[0.6666666666666666,\"#ed7953\"],[0.7777777777777778,\"#fb9f3a\"],[0.8888888888888888,\"#fdca26\"],[1.0,\"#f0f921\"]],\"type\":\"surface\"}],\"table\":[{\"cells\":{\"fill\":{\"color\":\"#EBF0F8\"},\"line\":{\"color\":\"white\"}},\"header\":{\"fill\":{\"color\":\"#C8D4E3\"},\"line\":{\"color\":\"white\"}},\"type\":\"table\"}]},\"layout\":{\"annotationdefaults\":{\"arrowcolor\":\"#2a3f5f\",\"arrowhead\":0,\"arrowwidth\":1},\"autotypenumbers\":\"strict\",\"coloraxis\":{\"colorbar\":{\"outlinewidth\":0,\"ticks\":\"\"}},\"colorscale\":{\"diverging\":[[0,\"#8e0152\"],[0.1,\"#c51b7d\"],[0.2,\"#de77ae\"],[0.3,\"#f1b6da\"],[0.4,\"#fde0ef\"],[0.5,\"#f7f7f7\"],[0.6,\"#e6f5d0\"],[0.7,\"#b8e186\"],[0.8,\"#7fbc41\"],[0.9,\"#4d9221\"],[1,\"#276419\"]],\"sequential\":[[0.0,\"#0d0887\"],[0.1111111111111111,\"#46039f\"],[0.2222222222222222,\"#7201a8\"],[0.3333333333333333,\"#9c179e\"],[0.4444444444444444,\"#bd3786\"],[0.5555555555555556,\"#d8576b\"],[0.6666666666666666,\"#ed7953\"],[0.7777777777777778,\"#fb9f3a\"],[0.8888888888888888,\"#fdca26\"],[1.0,\"#f0f921\"]],\"sequentialminus\":[[0.0,\"#0d0887\"],[0.1111111111111111,\"#46039f\"],[0.2222222222222222,\"#7201a8\"],[0.3333333333333333,\"#9c179e\"],[0.4444444444444444,\"#bd3786\"],[0.5555555555555556,\"#d8576b\"],[0.6666666666666666,\"#ed7953\"],[0.7777777777777778,\"#fb9f3a\"],[0.8888888888888888,\"#fdca26\"],[1.0,\"#f0f921\"]]},\"colorway\":[\"#636efa\",\"#EF553B\",\"#00cc96\",\"#ab63fa\",\"#FFA15A\",\"#19d3f3\",\"#FF6692\",\"#B6E880\",\"#FF97FF\",\"#FECB52\"],\"font\":{\"color\":\"#2a3f5f\"},\"geo\":{\"bgcolor\":\"white\",\"lakecolor\":\"white\",\"landcolor\":\"white\",\"showlakes\":true,\"showland\":true,\"subunitcolor\":\"#C8D4E3\"},\"hoverlabel\":{\"align\":\"left\"},\"hovermode\":\"closest\",\"mapbox\":{\"style\":\"light\"},\"paper_bgcolor\":\"white\",\"plot_bgcolor\":\"white\",\"polar\":{\"angularaxis\":{\"gridcolor\":\"#EBF0F8\",\"linecolor\":\"#EBF0F8\",\"ticks\":\"\"},\"bgcolor\":\"white\",\"radialaxis\":{\"gridcolor\":\"#EBF0F8\",\"linecolor\":\"#EBF0F8\",\"ticks\":\"\"}},\"scene\":{\"xaxis\":{\"backgroundcolor\":\"white\",\"gridcolor\":\"#DFE8F3\",\"gridwidth\":2,\"linecolor\":\"#EBF0F8\",\"showbackground\":true,\"ticks\":\"\",\"zerolinecolor\":\"#EBF0F8\"},\"yaxis\":{\"backgroundcolor\":\"white\",\"gridcolor\":\"#DFE8F3\",\"gridwidth\":2,\"linecolor\":\"#EBF0F8\",\"showbackground\":true,\"ticks\":\"\",\"zerolinecolor\":\"#EBF0F8\"},\"zaxis\":{\"backgroundcolor\":\"white\",\"gridcolor\":\"#DFE8F3\",\"gridwidth\":2,\"linecolor\":\"#EBF0F8\",\"showbackground\":true,\"ticks\":\"\",\"zerolinecolor\":\"#EBF0F8\"}},\"shapedefaults\":{\"line\":{\"color\":\"#2a3f5f\"}},\"ternary\":{\"aaxis\":{\"gridcolor\":\"#DFE8F3\",\"linecolor\":\"#A2B1C6\",\"ticks\":\"\"},\"baxis\":{\"gridcolor\":\"#DFE8F3\",\"linecolor\":\"#A2B1C6\",\"ticks\":\"\"},\"bgcolor\":\"white\",\"caxis\":{\"gridcolor\":\"#DFE8F3\",\"linecolor\":\"#A2B1C6\",\"ticks\":\"\"}},\"title\":{\"x\":0.05},\"xaxis\":{\"automargin\":true,\"gridcolor\":\"#EBF0F8\",\"linecolor\":\"#EBF0F8\",\"ticks\":\"\",\"title\":{\"standoff\":15},\"zerolinecolor\":\"#EBF0F8\",\"zerolinewidth\":2},\"yaxis\":{\"automargin\":true,\"gridcolor\":\"#EBF0F8\",\"linecolor\":\"#EBF0F8\",\"ticks\":\"\",\"title\":{\"standoff\":15},\"zerolinecolor\":\"#EBF0F8\",\"zerolinewidth\":2}}},\"xaxis\":{\"anchor\":\"y\",\"domain\":[0.0,1.0],\"title\":{\"text\":\"Metrics\"}},\"yaxis\":{\"anchor\":\"x\",\"domain\":[0.0,1.0],\"title\":{\"text\":\"Values\"},\"range\":[0,1]},\"coloraxis\":{\"colorbar\":{\"title\":{\"text\":\"color\"}},\"colorscale\":[[0.0,\"#440154\"],[0.1111111111111111,\"#482878\"],[0.2222222222222222,\"#3e4989\"],[0.3333333333333333,\"#31688e\"],[0.4444444444444444,\"#26828e\"],[0.5555555555555556,\"#1f9e89\"],[0.6666666666666666,\"#35b779\"],[0.7777777777777778,\"#6ece58\"],[0.8888888888888888,\"#b5de2b\"],[1.0,\"#fde725\"]]},\"legend\":{\"tracegroupgap\":0},\"title\":{\"text\":\"Evaluation Metrics\"},\"barmode\":\"relative\"},                        {\"responsive\": true}                    ).then(function(){\n",
              "                            \n",
              "var gd = document.getElementById('ccd65824-3189-4367-aaea-fa3ee6905c00');\n",
              "var x = new MutationObserver(function (mutations, observer) {{\n",
              "        var display = window.getComputedStyle(gd).display;\n",
              "        if (!display || display === 'none') {{\n",
              "            console.log([gd, 'removed!']);\n",
              "            Plotly.purge(gd);\n",
              "            observer.disconnect();\n",
              "        }}\n",
              "}});\n",
              "\n",
              "// Listen for the removal of the full notebook cells\n",
              "var notebookContainer = gd.closest('#notebook-container');\n",
              "if (notebookContainer) {{\n",
              "    x.observe(notebookContainer, {childList: true});\n",
              "}}\n",
              "\n",
              "// Listen for the clearing of the current output cell\n",
              "var outputEl = gd.closest('.output');\n",
              "if (outputEl) {{\n",
              "    x.observe(outputEl, {childList: true});\n",
              "}}\n",
              "\n",
              "                        })                };                            </script>        </div>\n",
              "</body>\n",
              "</html>"
            ]
          },
          "metadata": {}
        }
      ]
    },
    {
      "cell_type": "code",
      "execution_count": null,
      "metadata": {
        "colab": {
          "base_uri": "https://localhost:8080/",
          "height": 473
        },
        "id": "XuvzJfGmYxxq",
        "outputId": "e4b1d92a-8e24-4dde-cb96-a44093b9c044"
      },
      "outputs": [
        {
          "output_type": "display_data",
          "data": {
            "text/plain": [
              "<Figure size 500x500 with 1 Axes>"
            ],
            "image/png": "[encoded data removed]"
          },
          "metadata": {}
        }
      ],
      "source": [
        "class_labels = ['Contradiction','Entailment','Neutral']\n",
        "mat = confusion_matrix(test_labels, predicted_labels)\n",
        "plt.figure(figsize=(5,5))\n",
        "sns.heatmap(mat.T, square=True, annot=True, fmt='d', cbar=False, xticklabels=class_labels, yticklabels=class_labels)\n",
        "plt.xlabel('True Label')\n",
        "plt.ylabel('Predicted Label')"
      ]
    }
  ],
  "metadata": {
    "accelerator": "GPU",
    "colab": {
      "gpuType": "T4",
      "provenance": []
    },
    "kernelspec": {
      "display_name": "Python 3 (ipykernel)",
      "language": "python",
      "name": "python3"
    },
    "language_info": {
      "codemirror_mode": {
        "name": "ipython",
        "version": 3
      },
      "file_extension": ".py",
      "mimetype": "text/x-python",
      "name": "python",
      "nbconvert_exporter": "python",
      "pygments_lexer": "ipython3",
      "version": "3.9.18"
    }
  },
  "nbformat": 4,
  "nbformat_minor": 0
}